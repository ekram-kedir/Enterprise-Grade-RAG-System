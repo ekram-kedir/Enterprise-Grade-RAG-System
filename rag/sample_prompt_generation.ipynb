{
 "cells": [
  {
   "cell_type": "code",
   "execution_count": null,
   "metadata": {},
   "outputs": [],
   "source": [
    "%pip install spacy"
   ]
  },
  {
   "cell_type": "code",
   "execution_count": null,
   "metadata": {},
   "outputs": [],
   "source": [
    "import spacy\n",
    "\n",
    "# Load the spaCy English language model\n",
    "nlp = spacy.load('en_core_web_sm')\n",
    "\n",
    "def process_user_input(user_input):\n",
    "    \"\"\"\n",
    "    Process user input using spaCy to extract relevant information.\n",
    "    For simplicity, this example extracts entities and keywords.\n",
    "    \"\"\"\n",
    "    doc = nlp(user_input)\n",
    "    entities = [ent.text for ent in doc.ents]\n",
    "    keywords = [token.text for token in doc if not token.is_stop and token.is_alpha]\n",
    "    return entities, keywords\n",
    "\n",
    "def generate_prompts(user_input, templates):\n",
    "    \"\"\"\n",
    "    Generate prompts using template-based approaches.\n",
    "    Replace placeholders in templates with actual data from user input.\n",
    "    \"\"\"\n",
    "    entities, keywords = process_user_input(user_input)\n",
    "    prompts = []\n",
    "\n",
    "    for template in templates:\n",
    "        # Replace placeholders with actual data\n",
    "        prompt = template.format(TaskDescription=user_input, Entities=entities, Keywords=keywords)\n",
    "        prompts.append(prompt)\n",
    "\n",
    "    return prompts\n",
    "\n",
    "if __name__ == \"__main__\":\n",
    "    # Example user input\n",
    "    user_input = \"As a surgeon, perform a successful appendectomy in various scenarios.\"\n",
    "\n",
    "    # Example templates\n",
    "    templates = [\n",
    "        \"Perform the task: {TaskDescription}\",\n",
    "        \"Consider the following entities: {Entities}\",\n",
    "        \"Keywords to focus on: {Keywords}\",\n",
    "        \"Craft a prompt related to: {TaskDescription}, involving {Entities}\",\n",
    "    ]\n",
    "\n",
    "    # Generate prompts\n",
    "    generated_prompts = generate_prompts(user_input, templates)\n",
    "\n",
    "    # Print the generated prompts\n",
    "    for i, prompt in enumerate(generated_prompts, start=1):\n",
    "        print(f\"Prompt {i}: {prompt}\")\n"
   ]
  }
 ],
 "metadata": {
  "language_info": {
   "name": "python"
  }
 },
 "nbformat": 4,
 "nbformat_minor": 2
}
